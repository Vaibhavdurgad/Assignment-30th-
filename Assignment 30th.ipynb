{
 "cells": [
  {
   "cell_type": "code",
   "execution_count": null,
   "id": "ea58bf2e-ad9d-4ef7-8b88-a6b444872c7e",
   "metadata": {},
   "outputs": [],
   "source": [
    "1. Write a program to accept percentage from the user and display the grade according to the following \n",
    "Marks          Grade \n",
    ">90             A \n",
    ">80 and <=90    B \n",
    ">=60 and <=80   C \n",
    "below 60        D "
   ]
  },
  {
   "cell_type": "code",
   "execution_count": 4,
   "id": "e87cdc08-2be2-4538-8746-c35481319417",
   "metadata": {},
   "outputs": [
    {
     "name": "stdin",
     "output_type": "stream",
     "text": [
      "Enter your mark  60\n"
     ]
    },
    {
     "name": "stdout",
     "output_type": "stream",
     "text": [
      "C\n"
     ]
    }
   ],
   "source": [
    "m=int(input(\"Enter your mark \"))\n",
    "if(m>=90):\n",
    "    print(\"A\")\n",
    "elif(m>80 and m<=90):\n",
    "    print(\"B\")\n",
    "elif(m>=60 and m<=80):\n",
    "    print(\"C\")\n",
    "else:\n",
    "    print(\"D\")"
   ]
  },
  {
   "cell_type": "markdown",
   "id": "c770e760-5009-4148-9e14-3d4bed0142a0",
   "metadata": {},
   "source": [
    "2. Write a program to accept the cost price of a bike and display the road tax to be paid according to the \n",
    "Tax  Cost Price(in Rs) \n",
    "15%    >100000\n",
    "10%    >50000 and <= 100000 \n",
    "5%     <= 50000"
   ]
  },
  {
   "cell_type": "code",
   "execution_count": 7,
   "id": "302bea5d-ef0c-45b2-9fa0-59f54ca21ea6",
   "metadata": {},
   "outputs": [
    {
     "name": "stdin",
     "output_type": "stream",
     "text": [
      "Enter your Cost Price  120000\n"
     ]
    },
    {
     "name": "stdout",
     "output_type": "stream",
     "text": [
      "15%\n"
     ]
    }
   ],
   "source": [
    "m=int(input(\"Enter your Cost Price \"))\n",
    "if(m>100000):\n",
    "    print(\"15%\")\n",
    "elif(m>50000 and m<= 100000):\n",
    "    print(\"10%\")\n",
    "elif(m<=50000):\n",
    "    print(\"5%\")"
   ]
  },
  {
   "cell_type": "markdown",
   "id": "10210d72-8ac2-4d8f-8418-7086aa3b63e9",
   "metadata": {},
   "source": [
    "3. Accept any city from the user and display monuments of that city. \n",
    "City     Monument\n",
    "Delhi    Red Fort \n",
    "Agra     Taj Mahal \n",
    "Jaipur   Jal Mahal\n"
   ]
  },
  {
   "cell_type": "code",
   "execution_count": 12,
   "id": "3ea043b1-214a-4912-b67c-0a84c3724de4",
   "metadata": {},
   "outputs": [
    {
     "name": "stdin",
     "output_type": "stream",
     "text": [
      "Enter your City Jaipur\n"
     ]
    },
    {
     "name": "stdout",
     "output_type": "stream",
     "text": [
      "Jal Mahal\n"
     ]
    }
   ],
   "source": [
    "m=input(\"Enter your City\")\n",
    "if(m==\"Delhi\"):\n",
    "    print(\"Red Fort\")\n",
    "elif(m==\"Agra\"):\n",
    "    print(\"Taj Mahal\")\n",
    "elif(m==\"Jaipur\"):\n",
    "    print(\"Jal Mahal\")"
   ]
  },
  {
   "cell_type": "markdown",
   "id": "610f0bd2-3519-448d-94b0-9975509453af",
   "metadata": {},
   "source": [
    "4.Check how many times a given number can be divided by 3 before it is less than or equal to 10. "
   ]
  },
  {
   "cell_type": "code",
   "execution_count": 14,
   "id": "c0253f2e-6bfb-4cb3-b358-630b0bf229d1",
   "metadata": {},
   "outputs": [
    {
     "name": "stdout",
     "output_type": "stream",
     "text": [
      "3\n",
      "6\n",
      "9\n"
     ]
    }
   ],
   "source": [
    "n=1\n",
    "while n<=10:\n",
    "    if n%3==0:\n",
    "        print(n)\n",
    "    n+=1"
   ]
  },
  {
   "cell_type": "markdown",
   "id": "c993c8c2-fd0c-4c3e-a04e-fd8774d06dc1",
   "metadata": {},
   "source": [
    "5.Why and When to Use while Loop in Python give a detailed description with example "
   ]
  },
  {
   "cell_type": "markdown",
   "id": "cbaef75d-307b-43d6-9883-8757acf23042",
   "metadata": {},
   "source": [
    "Ans :Python while loop is used to run a block code until a certain condition is met"
   ]
  },
  {
   "cell_type": "code",
   "execution_count": 15,
   "id": "6fae0051-0861-45f1-bc28-1d5a98e2594d",
   "metadata": {},
   "outputs": [
    {
     "name": "stdout",
     "output_type": "stream",
     "text": [
      "1\n",
      "2\n",
      "3\n",
      "4\n",
      "5\n"
     ]
    }
   ],
   "source": [
    "i = 1\n",
    "while i < 6:\n",
    "    print(i)\n",
    "    i += 1"
   ]
  },
  {
   "cell_type": "markdown",
   "id": "bcf48cfb-1aa5-41ca-8b28-37ee4e0a13c1",
   "metadata": {},
   "source": [
    "6.Use nested while loop to print 3 different pattern"
   ]
  },
  {
   "cell_type": "code",
   "execution_count": 1,
   "id": "9760639f-ea2a-40c4-883f-ad1ddb0df563",
   "metadata": {},
   "outputs": [
    {
     "name": "stdin",
     "output_type": "stream",
     "text": [
      "Enter number of rows :  6\n"
     ]
    },
    {
     "name": "stdout",
     "output_type": "stream",
     "text": [
      "* \n",
      "* * \n",
      "* * * \n",
      "* * * * \n",
      "* * * * * \n",
      "* * * * * * \n"
     ]
    }
   ],
   "source": [
    "n = int(input('Enter number of rows : '))\n",
    " \n",
    "i = 1\n",
    "while i <= n :\n",
    "    j = 1\n",
    "    while j <= i:\n",
    "        print(\"*\", end = \" \")\n",
    "        j += 1\n",
    "    print()\n",
    "    i += 1"
   ]
  },
  {
   "cell_type": "code",
   "execution_count": 2,
   "id": "9dda73e3-1a4c-4f0b-bc9c-93c9b9a2a91a",
   "metadata": {},
   "outputs": [
    {
     "name": "stdin",
     "output_type": "stream",
     "text": [
      "Enter number of rows :  6\n"
     ]
    },
    {
     "name": "stdout",
     "output_type": "stream",
     "text": [
      "* * * * * * \n",
      "* * * * * \n",
      "* * * * \n",
      "* * * \n",
      "* * \n",
      "* \n"
     ]
    }
   ],
   "source": [
    "n = int(input('Enter number of rows : '))\n",
    " \n",
    "i = 1\n",
    "while i <= n :\n",
    "    j = n\n",
    "    while j >= i:\n",
    "        print(\"*\", end = \" \")\n",
    "        j -= 1\n",
    "    print()\n",
    "    i += 1"
   ]
  },
  {
   "cell_type": "code",
   "execution_count": 3,
   "id": "4a42d7e7-72fc-4599-8602-64cdcbd82a60",
   "metadata": {},
   "outputs": [
    {
     "name": "stdin",
     "output_type": "stream",
     "text": [
      "Enter number of rows :  6\n"
     ]
    },
    {
     "name": "stdout",
     "output_type": "stream",
     "text": [
      "  1 \n",
      "  2   3 \n",
      "  4   5   6 \n",
      "  7   8   9  10 \n",
      " 11  12  13  14  15 \n",
      " 16  17  18  19  20  21 \n"
     ]
    }
   ],
   "source": [
    "n = int(input('Enter number of rows : '))\n",
    " \n",
    "k = 1\n",
    "i = 1\n",
    "while i <= n :\n",
    "    j = 1\n",
    "    while j <= i:\n",
    "        print(\"{:3d}\".format(k), end = \" \")\n",
    "        j += 1\n",
    "        k += 1\n",
    "    print()\n",
    "    i += 1"
   ]
  },
  {
   "cell_type": "markdown",
   "id": "7b52bab7-4e68-4753-ac93-99025af671f7",
   "metadata": {},
   "source": [
    "7.Reverse a while loop to display numbers from 10 to 1. "
   ]
  },
  {
   "cell_type": "code",
   "execution_count": 16,
   "id": "9f2616c4-0c11-4f1d-b131-c913a25aaec4",
   "metadata": {},
   "outputs": [
    {
     "name": "stdout",
     "output_type": "stream",
     "text": [
      "10\n",
      "9\n",
      "8\n",
      "7\n",
      "6\n",
      "5\n",
      "4\n",
      "3\n",
      "2\n",
      "1\n"
     ]
    }
   ],
   "source": [
    "i = 10\n",
    "while i > 0:\n",
    "    print(i)\n",
    "    i = i - 1"
   ]
  },
  {
   "cell_type": "markdown",
   "id": "d37f1d81-0c6d-49d7-9ab0-d31ff55e6aa6",
   "metadata": {},
   "source": [
    "7.Reverse a while loop to display numbers from 10 to 1. "
   ]
  },
  {
   "cell_type": "code",
   "execution_count": null,
   "id": "839c18bd-14ef-491f-ac05-fabd5d5acc60",
   "metadata": {},
   "outputs": [],
   "source": [
    "i = 10\n",
    "while i > 0:\n",
    "    print(i)\n",
    "    i = i - 1"
   ]
  }
 ],
 "metadata": {
  "kernelspec": {
   "display_name": "Python 3 (ipykernel)",
   "language": "python",
   "name": "python3"
  },
  "language_info": {
   "codemirror_mode": {
    "name": "ipython",
    "version": 3
   },
   "file_extension": ".py",
   "mimetype": "text/x-python",
   "name": "python",
   "nbconvert_exporter": "python",
   "pygments_lexer": "ipython3",
   "version": "3.10.8"
  }
 },
 "nbformat": 4,
 "nbformat_minor": 5
}
